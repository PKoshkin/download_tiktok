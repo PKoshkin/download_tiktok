{
 "cells": [
  {
   "cell_type": "code",
   "execution_count": 1,
   "metadata": {},
   "outputs": [],
   "source": [
    "from json import loads"
   ]
  },
  {
   "cell_type": "code",
   "execution_count": 2,
   "metadata": {},
   "outputs": [],
   "source": [
    "with open(\"list_hashtags\") as list_hashtags_handler:\n",
    "    list_hashtags = next(list_hashtags_handler).strip()"
   ]
  },
  {
   "cell_type": "code",
   "execution_count": 3,
   "metadata": {},
   "outputs": [],
   "source": [
    "with open(\"videos.json\") as data:\n",
    "    videos = loads(next(data))"
   ]
  },
  {
   "cell_type": "code",
   "execution_count": 4,
   "metadata": {},
   "outputs": [
    {
     "data": {
      "text/plain": [
       "dict_keys(['log_pb', 'aweme_list', 'extra', 'has_more', 'status_code', 'cursor', 'rid'])"
      ]
     },
     "execution_count": 4,
     "metadata": {},
     "output_type": "execute_result"
    }
   ],
   "source": [
    "videos.keys()"
   ]
  },
  {
   "cell_type": "code",
   "execution_count": 11,
   "metadata": {},
   "outputs": [
    {
     "data": {
      "text/plain": [
       "dict_keys(['risk_infos', 'desc_language', 'label_top_text', 'label_top', 'author_user_id', 'item_comment_settings', 'rate', 'create_time', 'video', 'aweme_id', 'video_labels', 'is_vr', 'item_react', 'long_video', 'vr_type', 'statistics', 'author', 'prevent_download', 'cmt_swt', 'share_url', 'is_ads', 'music', 'misc_info', 'item_duet', 'xigua_task', 'is_hash_tag', 'bodydance_score', 'status', 'sort_label', 'share_info', 'video_text', 'is_top', 'collect_stat', 'aweme_type', 'desc', 'group_id', 'geofencing', 'region', 'is_pgcshow', 'is_relieve', 'text_extra', 'cha_list', 'user_digged'])"
      ]
     },
     "execution_count": 11,
     "metadata": {},
     "output_type": "execute_result"
    }
   ],
   "source": [
    "videos['aweme_list'][0].keys()"
   ]
  },
  {
   "cell_type": "code",
   "execution_count": 22,
   "metadata": {},
   "outputs": [
    {
     "data": {
      "text/plain": [
       "{'share_weibo_desc': 'TikTok: každá vteřina se počítáMrkni na video Sneaker Mechanic! #TikTok > ',\n",
       " 'bool_persist': 0,\n",
       " 'share_quote': '',\n",
       " 'share_title': 'Mrkni na video Sneaker Mechanic! #TikTok > ',\n",
       " 'share_signature_desc': '',\n",
       " 'share_signature_url': '',\n",
       " 'share_link_desc': '',\n",
       " 'share_url': 'https://m.tiktok.com/v/6647529164914035974.html?language=cs',\n",
       " 'share_desc': ''}"
      ]
     },
     "execution_count": 22,
     "metadata": {},
     "output_type": "execute_result"
    }
   ],
   "source": [
    "videos['aweme_list'][0]['share_info']"
   ]
  },
  {
   "cell_type": "code",
   "execution_count": 23,
   "metadata": {},
   "outputs": [
    {
     "data": {
      "text/plain": [
       "[]"
      ]
     },
     "execution_count": 23,
     "metadata": {},
     "output_type": "execute_result"
    }
   ],
   "source": [
    "videos['aweme_list'][0]['video_labels']"
   ]
  },
  {
   "cell_type": "code",
   "execution_count": 24,
   "metadata": {},
   "outputs": [
    {
     "data": {
      "text/plain": [
       "{'forward_count': 0,\n",
       " 'digg_count': 246321,\n",
       " 'play_count': 0,\n",
       " 'comment_count': 1101,\n",
       " 'aweme_id': '6647529164914035974',\n",
       " 'share_count': 6600,\n",
       " 'download_count': 2406}"
      ]
     },
     "execution_count": 24,
     "metadata": {},
     "output_type": "execute_result"
    }
   ],
   "source": [
    "videos['aweme_list'][0]['statistics']"
   ]
  },
  {
   "cell_type": "code",
   "execution_count": 25,
   "metadata": {},
   "outputs": [
    {
     "data": {
      "text/plain": [
       "'You ain’t slime enough 💧 🍉Follow me on IG for more customs! ✍🏼 #sneakerheads #nike #slime #shoes'"
      ]
     },
     "execution_count": 25,
     "metadata": {},
     "output_type": "execute_result"
    }
   ],
   "source": [
    "videos['aweme_list'][0]['desc']"
   ]
  },
  {
   "cell_type": "code",
   "execution_count": 27,
   "metadata": {},
   "outputs": [
    {
     "data": {
      "text/plain": [
       "dict_keys(['ratio', 'origin_cover', 'play_addr', 'cover', 'height', 'width', 'bit_rate', 'download_addr', 'has_watermark', 'play_addr_h264', 'duration', 'is_h265', 'dynamic_cover'])"
      ]
     },
     "execution_count": 27,
     "metadata": {},
     "output_type": "execute_result"
    }
   ],
   "source": [
    "videos['aweme_list'][0]['video'].keys()"
   ]
  },
  {
   "cell_type": "code",
   "execution_count": 28,
   "metadata": {},
   "outputs": [
    {
     "data": {
      "text/plain": [
       "[{'user_count': 0,\n",
       "  'author': {'birthday': '1900-01-01'},\n",
       "  'is_commerce': False,\n",
       "  'cid': '189265',\n",
       "  'announcement_info': {'body': '', 'title': ''},\n",
       "  'challenge_i18n': {},\n",
       "  'is_pgcshow': False,\n",
       "  'is_challenge': 0,\n",
       "  'cha_name': 'sneakerheads',\n",
       "  'schema': 'aweme://aweme/challenge/detail?cid=189265',\n",
       "  'type': 0,\n",
       "  'sub_type': 0,\n",
       "  'desc': ''}]"
      ]
     },
     "execution_count": 28,
     "metadata": {},
     "output_type": "execute_result"
    }
   ],
   "source": [
    "videos['aweme_list'][0]['cha_list']"
   ]
  },
  {
   "cell_type": "code",
   "execution_count": 29,
   "metadata": {},
   "outputs": [
    {
     "data": {
      "text/plain": [
       "[{'hashtag_id': '189265',\n",
       "  'end': 79,\n",
       "  'start': 66,\n",
       "  'hashtag_name': 'sneakerheads',\n",
       "  'type': 1,\n",
       "  'is_commerce': False},\n",
       " {'hashtag_id': '9789',\n",
       "  'end': 85,\n",
       "  'start': 80,\n",
       "  'hashtag_name': 'nike',\n",
       "  'type': 1,\n",
       "  'is_commerce': False},\n",
       " {'hashtag_id': '47378',\n",
       "  'end': 92,\n",
       "  'start': 86,\n",
       "  'hashtag_name': 'slime',\n",
       "  'type': 1,\n",
       "  'is_commerce': False},\n",
       " {'hashtag_id': '7383',\n",
       "  'end': 99,\n",
       "  'start': 93,\n",
       "  'hashtag_name': 'shoes',\n",
       "  'type': 1,\n",
       "  'is_commerce': False}]"
      ]
     },
     "execution_count": 29,
     "metadata": {},
     "output_type": "execute_result"
    }
   ],
   "source": [
    "videos['aweme_list'][0]['text_extra']"
   ]
  },
  {
   "cell_type": "code",
   "execution_count": 30,
   "metadata": {},
   "outputs": [
    {
     "data": {
      "text/plain": [
       "'{}'"
      ]
     },
     "execution_count": 30,
     "metadata": {},
     "output_type": "execute_result"
    }
   ],
   "source": [
    "videos['aweme_list'][0]['misc_info']"
   ]
  },
  {
   "cell_type": "code",
   "execution_count": 31,
   "metadata": {},
   "outputs": [
    {
     "data": {
      "text/plain": [
       "False"
      ]
     },
     "execution_count": 31,
     "metadata": {},
     "output_type": "execute_result"
    }
   ],
   "source": [
    "videos['aweme_list'][0]['cmt_swt']"
   ]
  },
  {
   "cell_type": "code",
   "execution_count": 32,
   "metadata": {},
   "outputs": [
    {
     "data": {
      "text/plain": [
       "''"
      ]
     },
     "execution_count": 32,
     "metadata": {},
     "output_type": "execute_result"
    }
   ],
   "source": [
    "videos['aweme_list'][0]['sort_label']"
   ]
  },
  {
   "cell_type": "code",
   "execution_count": null,
   "metadata": {},
   "outputs": [],
   "source": []
  }
 ],
 "metadata": {
  "kernelspec": {
   "display_name": "Python 3",
   "language": "python",
   "name": "python3"
  },
  "language_info": {
   "codemirror_mode": {
    "name": "ipython",
    "version": 3
   },
   "file_extension": ".py",
   "mimetype": "text/x-python",
   "name": "python",
   "nbconvert_exporter": "python",
   "pygments_lexer": "ipython3",
   "version": "3.7.0"
  }
 },
 "nbformat": 4,
 "nbformat_minor": 2
}
